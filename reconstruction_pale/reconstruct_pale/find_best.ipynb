{
 "metadata": {
  "language_info": {
   "codemirror_mode": {
    "name": "ipython",
    "version": 3
   },
   "file_extension": ".py",
   "mimetype": "text/x-python",
   "name": "python",
   "nbconvert_exporter": "python",
   "pygments_lexer": "ipython3",
   "version": "3.9.17-final"
  },
  "orig_nbformat": 2,
  "kernelspec": {
   "name": "python3",
   "display_name": "Python 3.9.17 64-bit ('base': conda)",
   "metadata": {
    "interpreter": {
     "hash": "0dd73d4fd4a71f0f6a115d6a1d428910232e76ab76bf556c97170a256c9910bb"
    }
   }
  }
 },
 "nbformat": 4,
 "nbformat_minor": 2,
 "cells": [
  {
   "source": [
    "## On va trouver ici les meilleurs de chaque section "
   ],
   "cell_type": "markdown",
   "metadata": {}
  },
  {
   "cell_type": "code",
   "execution_count": 1,
   "metadata": {},
   "outputs": [],
   "source": [
    "from find_best import *"
   ]
  },
  {
   "cell_type": "code",
   "execution_count": 4,
   "metadata": {},
   "outputs": [
    {
     "output_type": "execute_result",
     "data": {
      "text/plain": [
       "array([ 0.0289   ,  0.0004025,  0.09313  ,  0.08978  ,  0.1188   ,\n",
       "        0.       , -0.09985  , -0.01279  ,  0.3742   , -0.09708  ])"
      ]
     },
     "metadata": {},
     "execution_count": 4
    }
   ],
   "source": [
    "face_0 = find_best('results/drl_pale_0')\n",
    "face_0"
   ]
  },
  {
   "cell_type": "code",
   "execution_count": 5,
   "metadata": {},
   "outputs": [
    {
     "output_type": "execute_result",
     "data": {
      "text/plain": [
       "array([ 0.01211 ,  0.04379 ,  0.08971 ,  0.06649 ,  0.08487 , -0.001573,\n",
       "       -0.003513, -0.1     ,  0.7963  , -0.0997  ])"
      ]
     },
     "metadata": {},
     "execution_count": 5
    }
   ],
   "source": [
    "face_1 = find_best('results/drl_pale_1')\n",
    "face_1"
   ]
  },
  {
   "cell_type": "code",
   "execution_count": 6,
   "metadata": {},
   "outputs": [
    {
     "output_type": "execute_result",
     "data": {
      "text/plain": [
       "array([ 0.006597,  0.04929 ,  0.03788 ,  0.09194 ,  0.06355 , -0.03934 ,\n",
       "       -0.0724  , -0.01171 ,  0.7536  ,  0.2995  ])"
      ]
     },
     "metadata": {},
     "execution_count": 6
    }
   ],
   "source": [
    "face_2 = find_best('results/drl_pale_2')\n",
    "face_2"
   ]
  },
  {
   "cell_type": "code",
   "execution_count": 7,
   "metadata": {},
   "outputs": [
    {
     "output_type": "execute_result",
     "data": {
      "text/plain": [
       "array([ 0.01172 ,  0.06209 ,  0.08116 ,  0.09348 ,  0.1211  , -0.00779 ,\n",
       "       -0.02546 , -0.004806,  0.7659  ,  0.2979  ])"
      ]
     },
     "metadata": {},
     "execution_count": 7
    }
   ],
   "source": [
    "face_3 = find_best('results/drl_pale_3')\n",
    "face_3"
   ]
  },
  {
   "cell_type": "code",
   "execution_count": 8,
   "metadata": {},
   "outputs": [
    {
     "output_type": "execute_result",
     "data": {
      "text/plain": [
       "array([ 5.000e-03,  6.783e-02,  8.308e-02,  1.040e-01,  1.158e-01,\n",
       "       -4.951e-03, -2.133e-02, -5.754e-04,  7.669e-01,  2.995e-01])"
      ]
     },
     "metadata": {},
     "execution_count": 8
    }
   ],
   "source": [
    "face_4 = find_best('results/drl_pale_4')\n",
    "face_4"
   ]
  },
  {
   "cell_type": "code",
   "execution_count": 9,
   "metadata": {},
   "outputs": [
    {
     "output_type": "execute_result",
     "data": {
      "text/plain": [
       "array([ 1.564e-02,  5.553e-02,  9.739e-02,  1.188e-01,  1.276e-01,\n",
       "       -5.683e-03, -5.469e-04, -3.310e-03,  7.835e-01,  2.996e-01])"
      ]
     },
     "metadata": {},
     "execution_count": 9
    }
   ],
   "source": [
    "face_5 = find_best('results/drl_pale_5')\n",
    "face_5"
   ]
  },
  {
   "cell_type": "code",
   "execution_count": 10,
   "metadata": {},
   "outputs": [
    {
     "output_type": "execute_result",
     "data": {
      "text/plain": [
       "array([ 0.005238,  0.07    ,  0.1195  ,  0.05664 ,  0.1294  , -0.007883,\n",
       "       -0.02563 , -0.006191,  0.6098  ,  0.299   ])"
      ]
     },
     "metadata": {},
     "execution_count": 10
    }
   ],
   "source": [
    "face_6 = find_best('results/drl_pale_6')\n",
    "face_6"
   ]
  },
  {
   "cell_type": "code",
   "execution_count": null,
   "metadata": {},
   "outputs": [],
   "source": []
  }
 ]
}