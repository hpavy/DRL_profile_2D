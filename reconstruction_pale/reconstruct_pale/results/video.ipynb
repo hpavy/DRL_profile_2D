{
 "metadata": {
  "language_info": {
   "codemirror_mode": {
    "name": "ipython",
    "version": 3
   },
   "file_extension": ".py",
   "mimetype": "text/x-python",
   "name": "python",
   "nbconvert_exporter": "python",
   "pygments_lexer": "ipython3",
   "version": "3.9.17-final"
  },
  "orig_nbformat": 2,
  "kernelspec": {
   "name": "python3",
   "display_name": "Python 3.9.17 64-bit ('base': conda)",
   "metadata": {
    "interpreter": {
     "hash": "0dd73d4fd4a71f0f6a115d6a1d428910232e76ab76bf556c97170a256c9910bb"
    }
   }
  }
 },
 "nbformat": 4,
 "nbformat_minor": 2,
 "cells": [
  {
   "cell_type": "code",
   "execution_count": 1,
   "metadata": {},
   "outputs": [],
   "source": [
    "from Analyse import *\n",
    "from save_video import *"
   ]
  },
  {
   "cell_type": "code",
   "execution_count": 5,
   "metadata": {},
   "outputs": [
    {
     "output_type": "display_data",
     "data": {
      "text/plain": "<Figure size 640x480 with 0 Axes>"
     },
     "metadata": {}
    }
   ],
   "source": [
    "plot_video(file=\"drl_pale_0\", title=\"Profil n°0-DRL\", save_folder='video', title_video='profil_0.mp4', ylim=None)"
   ]
  },
  {
   "cell_type": "code",
   "execution_count": 6,
   "metadata": {},
   "outputs": [
    {
     "output_type": "display_data",
     "data": {
      "text/plain": "<Figure size 640x480 with 0 Axes>"
     },
     "metadata": {}
    }
   ],
   "source": [
    "plot_video(file=\"drl_pale_1\", title=\"Profil n°1-DRL\", save_folder='video', title_video='profil_1.mp4', ylim=None)"
   ]
  },
  {
   "cell_type": "code",
   "execution_count": 7,
   "metadata": {},
   "outputs": [
    {
     "output_type": "display_data",
     "data": {
      "text/plain": "<Figure size 640x480 with 0 Axes>"
     },
     "metadata": {}
    }
   ],
   "source": [
    "plot_video(file=\"drl_pale_2\", title=\"Profil n°2-DRL\", save_folder='video', title_video='profil_2.mp4', ylim=None)"
   ]
  },
  {
   "cell_type": "code",
   "execution_count": 8,
   "metadata": {},
   "outputs": [
    {
     "output_type": "display_data",
     "data": {
      "text/plain": "<Figure size 640x480 with 0 Axes>"
     },
     "metadata": {}
    }
   ],
   "source": [
    "plot_video(file=\"drl_pale_3\", title=\"Profil n°3-DRL\", save_folder='video', title_video='profil_3.mp4', ylim=None)"
   ]
  },
  {
   "cell_type": "code",
   "execution_count": 9,
   "metadata": {},
   "outputs": [
    {
     "output_type": "display_data",
     "data": {
      "text/plain": "<Figure size 640x480 with 0 Axes>"
     },
     "metadata": {}
    }
   ],
   "source": [
    "plot_video(file=\"drl_pale_4\", title=\"Profil n°4-DRL\", save_folder='video', title_video='profil_4.mp4', ylim=None)"
   ]
  },
  {
   "cell_type": "code",
   "execution_count": 10,
   "metadata": {},
   "outputs": [
    {
     "output_type": "display_data",
     "data": {
      "text/plain": "<Figure size 640x480 with 0 Axes>"
     },
     "metadata": {}
    }
   ],
   "source": [
    "plot_video(file=\"drl_pale_5\", title=\"Profil n°5-DRL\", save_folder='video', title_video='profil_5.mp4', ylim=None)"
   ]
  },
  {
   "cell_type": "code",
   "execution_count": 11,
   "metadata": {},
   "outputs": [
    {
     "output_type": "display_data",
     "data": {
      "text/plain": "<Figure size 640x480 with 0 Axes>"
     },
     "metadata": {}
    }
   ],
   "source": [
    "plot_video(file=\"drl_pale_6\", title=\"Profil n°6-DRL\", save_folder='video', title_video='profil_6.mp4', ylim=None)"
   ]
  },
  {
   "cell_type": "code",
   "execution_count": null,
   "metadata": {},
   "outputs": [],
   "source": []
  }
 ]
}