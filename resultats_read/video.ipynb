{
 "metadata": {
  "language_info": {
   "codemirror_mode": {
    "name": "ipython",
    "version": 3
   },
   "file_extension": ".py",
   "mimetype": "text/x-python",
   "name": "python",
   "nbconvert_exporter": "python",
   "pygments_lexer": "ipython3",
   "version": "3.9.17-final"
  },
  "orig_nbformat": 2,
  "kernelspec": {
   "name": "python3",
   "display_name": "Python 3.9.17 64-bit ('miniconda3': virtualenv)",
   "metadata": {
    "interpreter": {
     "hash": "0dd73d4fd4a71f0f6a115d6a1d428910232e76ab76bf556c97170a256c9910bb"
    }
   }
  }
 },
 "nbformat": 4,
 "nbformat_minor": 2,
 "cells": [
  {
   "cell_type": "code",
   "execution_count": 1,
   "metadata": {},
   "outputs": [],
   "source": [
    "from Analyse import *\n",
    "from save_video import *"
   ]
  },
  {
   "cell_type": "code",
   "execution_count": 2,
   "metadata": {},
   "outputs": [
    {
     "output_type": "display_data",
     "data": {
      "text/plain": "<Figure size 640x480 with 0 Axes>"
     },
     "metadata": {}
    }
   ],
   "source": [
    "plot_video(file=\"drl\", title=\"Profil avec ema\", save_folder='video', title_video='profil_ema.mp4', ylim=None)"
   ]
  }
 ]
}